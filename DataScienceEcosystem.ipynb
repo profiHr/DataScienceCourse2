{
  "nbformat": 4,
  "nbformat_minor": 0,
  "metadata": {
    "colab": {
      "provenance": [],
      "authorship_tag": "ABX9TyPegYl0NVhiCNsAfUEb9Dby",
      "include_colab_link": true
    },
    "kernelspec": {
      "name": "python3",
      "display_name": "Python 3"
    },
    "language_info": {
      "name": "python"
    }
  },
  "cells": [
    {
      "cell_type": "markdown",
      "metadata": {
        "id": "view-in-github",
        "colab_type": "text"
      },
      "source": [
        "<a href=\"https://colab.research.google.com/github/profiHr/DataScienceCourse2/blob/main/DataScienceEcosystem.ipynb\" target=\"_parent\"><img src=\"https://colab.research.google.com/assets/colab-badge.svg\" alt=\"Open In Colab\"/></a>"
      ]
    },
    {
      "cell_type": "markdown",
      "source": [
        "# Data Science Ecosystem"
      ],
      "metadata": {
        "id": "KSW5kpFEahLl"
      }
    },
    {
      "cell_type": "markdown",
      "source": [
        "In this notebook, Data Science Tools and Ecosystem are summarized.\n"
      ],
      "metadata": {
        "id": "TmH_0LTGbm02"
      }
    },
    {
      "cell_type": "markdown",
      "source": [
        "**Objectives:**\n",
        "- Review knowledge of data science languages, tools and libraries\n",
        "- Review knowledge of markdown\n",
        "- Review knowledge of basic python commands\n",
        "- Affirming the need for commenting on code\n",
        "- Review knowledge of different formatting"
      ],
      "metadata": {
        "id": "XiA3l50Qgxa4"
      }
    },
    {
      "cell_type": "markdown",
      "source": [
        "Some of the popular languages that Data Scientists use are:\n",
        "1. Python\n",
        "2. R\n",
        "3. Scala\n",
        "4. JavaScript\n",
        "5. Java"
      ],
      "metadata": {
        "id": "i-wdU_wQb15o"
      }
    },
    {
      "cell_type": "markdown",
      "source": [
        "Some of the commonly used libraries used by Data Scientists include:\n",
        "1. ggplot2\n",
        "2. Matplotlib\n",
        "3. NumPy\n",
        "4. Pandas\n",
        "5. caret"
      ],
      "metadata": {
        "id": "fVuA_fqrccX9"
      }
    },
    {
      "cell_type": "markdown",
      "source": [
        "| Data Science Tools |\n",
        ":----------------:\n",
        "| Anaconda |\n",
        "| IBM Data Asset eXchange |\n",
        "| IBM Watson Studio |\n",
        "| GitHub|\n",
        "\n"
      ],
      "metadata": {
        "id": "GwS3W1i5dJIr"
      }
    },
    {
      "cell_type": "markdown",
      "source": [
        "### Below are a few examples of evaluating arithmetic expressions in Python.\n"
      ],
      "metadata": {
        "id": "1eiGPEMqfboO"
      }
    },
    {
      "cell_type": "code",
      "source": [
        "# This is a simple expression to multiply and then add integers\n",
        "(3*4) + 5"
      ],
      "metadata": {
        "colab": {
          "base_uri": "https://localhost:8080/"
        },
        "id": "Tw0mwI9Pf3sA",
        "outputId": "b31d5603-30d4-44ce-9b4f-633c05e31dbb"
      },
      "execution_count": 1,
      "outputs": [
        {
          "output_type": "execute_result",
          "data": {
            "text/plain": [
              "17"
            ]
          },
          "metadata": {},
          "execution_count": 1
        }
      ]
    },
    {
      "cell_type": "code",
      "source": [
        "# This will convert 200 minutes to hours by diving by 60 and rounding it up to 2 digits\n",
        "round(200/60,2)"
      ],
      "metadata": {
        "colab": {
          "base_uri": "https://localhost:8080/"
        },
        "id": "uxsrXCLhgOQS",
        "outputId": "a937da62-8430-4753-b687-b901b9e4f390"
      },
      "execution_count": 3,
      "outputs": [
        {
          "output_type": "execute_result",
          "data": {
            "text/plain": [
              "3.33"
            ]
          },
          "metadata": {},
          "execution_count": 3
        }
      ]
    },
    {
      "cell_type": "markdown",
      "source": [
        "##Author\n",
        "Ivo Hristov"
      ],
      "metadata": {
        "id": "6fE4u-oPhkLv"
      }
    }
  ]
}